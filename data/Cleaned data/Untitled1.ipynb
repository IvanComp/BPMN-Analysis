{
 "cells": [
  {
   "cell_type": "code",
   "execution_count": null,
   "id": "4c820782-ba11-40a5-baeb-710350e22300",
   "metadata": {},
   "outputs": [],
   "source": [
    "fammi un grafico "
   ]
  }
 ],
 "metadata": {
  "kernelspec": {
   "display_name": "Python 3 (ipykernel)",
   "language": "python",
   "name": "python3"
  },
  "language_info": {
   "codemirror_mode": {
    "name": "ipython",
    "version": 3
   },
   "file_extension": ".py",
   "mimetype": "text/x-python",
   "name": "python",
   "nbconvert_exporter": "python",
   "pygments_lexer": "ipython3",
   "version": "3.9.13"
  }
 },
 "nbformat": 4,
 "nbformat_minor": 5
}
