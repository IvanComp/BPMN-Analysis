{
 "cells": [
  {
   "cell_type": "markdown",
   "id": "b5b0d82f-6a8e-45ac-9821-cae5e74d1295",
   "metadata": {},
   "source": [
    "Importing libraries"
   ]
  },
  {
   "cell_type": "code",
   "execution_count": 2,
   "id": "643e4bbb-90b1-488a-84b6-77c194f5c003",
   "metadata": {},
   "outputs": [],
   "source": [
    "import os\n",
    "import glob\n",
    "import pandas as pd \n",
    "import csv\n",
    "import collections\n",
    "import pprint\n",
    "import win32com.client as com\n",
    "import sklearn"
   ]
  },
  {
   "cell_type": "markdown",
   "id": "d05f1e9a-9368-47f8-adff-6e3f9d4db4af",
   "metadata": {},
   "source": [
    "Identification and quantification of data"
   ]
  },
  {
   "cell_type": "code",
   "execution_count": 31,
   "id": "781d0f36-b536-4f36-9359-0a117eeb45a5",
   "metadata": {},
   "outputs": [
    {
     "name": "stdout",
     "output_type": "stream",
     "text": [
      "There are 1 .csv file. The total size of the data set are : 38.67 MB\n",
      "Files:\n"
     ]
    },
    {
     "data": {
      "text/plain": [
       "['BPMN.csv']"
      ]
     },
     "execution_count": 31,
     "metadata": {},
     "output_type": "execute_result"
    }
   ],
   "source": [
    "data_directory = './data/Initial data/'\n",
    "raw_files = os.listdir(data_directory)\n",
    "\n",
    "path, dirs, files = next(os.walk(data_directory))\n",
    "file_count = len(files)\n",
    "\n",
    "fso = com.Dispatch(\"Scripting.FileSystemObject\")\n",
    "folder = fso.GetFolder(data_directory)\n",
    "MB = 1024 * 1024.0\n",
    "print(\"There are\",file_count,\".csv file. The total size of the data set are : %.2f MB\" % (folder.Size / MB))\n",
    "print(\"Files:\") \n",
    "raw_files"
   ]
  },
  {
   "cell_type": "markdown",
   "id": "327beeb5-382d-4750-8205-d657db4b68f3",
   "metadata": {},
   "source": [
    "Creating a folder for new clean data"
   ]
  },
  {
   "cell_type": "code",
   "execution_count": 33,
   "id": "03f748b9-c3eb-463c-907d-4eb385c9652a",
   "metadata": {},
   "outputs": [
    {
     "name": "stdout",
     "output_type": "stream",
     "text": [
      "Successfully created the directory ./data/Cleaned data/ \n"
     ]
    }
   ],
   "source": [
    "Newdata_directory = './data/Cleaned data/'\n",
    "\n",
    "try:\n",
    "    os.mkdir(Newdata_directory)\n",
    "except OSError:\n",
    "    print (\"Creation of the directory %s failed\" % Newdata_directory)\n",
    "else:\n",
    "    print (\"Successfully created the directory %s \" % Newdata_directory)"
   ]
  },
  {
   "cell_type": "markdown",
   "id": "8f5b7e1e-cf75-4d52-a9df-95494bc0d6a0",
   "metadata": {},
   "source": [
    "Verification of the integrity of the data of .csv file"
   ]
  },
  {
   "cell_type": "code",
   "execution_count": 4,
   "id": "d2f7113c-7c15-42c4-9a91-be531eb34638",
   "metadata": {},
   "outputs": [
    {
     "name": "stdout",
     "output_type": "stream",
     "text": [
      "Columns before dropping:\n",
      "Index(['CollectionName', 'fileName', 'nTaskNoneLoopNoneCompensateNoneCallNone',\n",
      "       'nTaskNoneLoopNoneCompensateNoneCall',\n",
      "       'nTaskNoneLoopNoneCompensateCallNone',\n",
      "       'nTaskNoneLoopNoneCompensateCall',\n",
      "       'nTaskNoneLoopStandardCompensateNoneCallNone',\n",
      "       'nTaskNoneLoopStandardCompensateNoneCall',\n",
      "       'nTaskNoneLoopStandardCompensateCallNone',\n",
      "       'nTaskNoneLoopStandardCompensateCall',\n",
      "       ...\n",
      "       'nAssociationDataInput', 'nGroup', 'nTextAnnotation', 'Execution Time',\n",
      "       'TotalElements', 'PracticalComplexity', 'FileSize', 'DuplicateString',\n",
      "       'Labels', 'Valid'],\n",
      "      dtype='object', length=276)\n",
      "  CollectionName  nTaskNoneLoopNoneCompensateNoneCallNone  \\\n",
      "0            BIT                                       10   \n",
      "1            BIT                                        5   \n",
      "2            BIT                                        7   \n",
      "3            BIT                                        4   \n",
      "4            BIT                                       59   \n",
      "\n",
      "   nTaskNoneLoopNoneCompensateNoneCall  nTaskNoneLoopNoneCompensateCallNone  \\\n",
      "0                                    0                                    0   \n",
      "1                                    0                                    0   \n",
      "2                                    0                                    0   \n",
      "3                                    0                                    0   \n",
      "4                                    0                                    0   \n",
      "\n",
      "   nTaskNoneLoopNoneCompensateCall  \\\n",
      "0                                0   \n",
      "1                                0   \n",
      "2                                0   \n",
      "3                                0   \n",
      "4                                0   \n",
      "\n",
      "   nTaskNoneLoopStandardCompensateNoneCallNone  \\\n",
      "0                                            0   \n",
      "1                                            0   \n",
      "2                                            0   \n",
      "3                                            0   \n",
      "4                                            0   \n",
      "\n",
      "   nTaskNoneLoopStandardCompensateNoneCall  \\\n",
      "0                                        0   \n",
      "1                                        0   \n",
      "2                                        0   \n",
      "3                                        0   \n",
      "4                                        0   \n",
      "\n",
      "   nTaskNoneLoopStandardCompensateCallNone  \\\n",
      "0                                        0   \n",
      "1                                        0   \n",
      "2                                        0   \n",
      "3                                        0   \n",
      "4                                        0   \n",
      "\n",
      "   nTaskNoneLoopStandardCompensateCall  \\\n",
      "0                                    0   \n",
      "1                                    0   \n",
      "2                                    0   \n",
      "3                                    0   \n",
      "4                                    0   \n",
      "\n",
      "   nTaskNoneLoopMIParallelCompensateNoneCallNone  ...  \\\n",
      "0                                              0  ...   \n",
      "1                                              0  ...   \n",
      "2                                              0  ...   \n",
      "3                                              0  ...   \n",
      "4                                              0  ...   \n",
      "\n",
      "   nConversationSubProcess  nConversationCall  nConversationLink  \\\n",
      "0                        0                  0                  0   \n",
      "1                        0                  0                  0   \n",
      "2                        0                  0                  0   \n",
      "3                        0                  0                  0   \n",
      "4                        0                  0                  0   \n",
      "\n",
      "   nAssociationUndirected  nAssociationUnidirectional  \\\n",
      "0                       0                           0   \n",
      "1                       0                           0   \n",
      "2                       0                           0   \n",
      "3                       0                           0   \n",
      "4                       0                           0   \n",
      "\n",
      "   nAssociationBidirectional  nAssociationDataOutput  nAssociationDataInput  \\\n",
      "0                          0                       0                      0   \n",
      "1                          0                       0                      0   \n",
      "2                          0                       0                      0   \n",
      "3                          0                       0                      0   \n",
      "4                          0                       0                      0   \n",
      "\n",
      "   nGroup  nTextAnnotation  \n",
      "0       0                0  \n",
      "1       0                0  \n",
      "2       0                0  \n",
      "3       0                0  \n",
      "4       0                0  \n",
      "\n",
      "[5 rows x 268 columns]\n"
     ]
    }
   ],
   "source": [
    "file_path = \"./data/Initial data/BPMN.csv\"\n",
    "output_file_path = \"./data/Cleaned data/BPMNcleaned.csv\"\n",
    "\n",
    "try:\n",
    "    df = pd.read_csv(file_path, sep=';', engine='python', encoding='utf-8')\n",
    "except UnicodeDecodeError:\n",
    "    df = pd.read_csv(file_path, sep=';', engine='python', encoding='latin-1')\n",
    "\n",
    "# Print the columns before dropping\n",
    "print(\"Columns before dropping:\")\n",
    "print(df.columns)\n",
    "\n",
    "# Specify the Excel-style column indices to drop\n",
    "columns_to_drop_excel = ['fileName', 'Execution Time', 'TotalElements', 'PracticalComplexity', 'FileSize', 'DuplicateString', 'Labels', 'Valid']\n",
    "\n",
    "# Convert Excel-style column names to numerical indices\n",
    "columns_to_drop_indices = [df.columns.get_loc(col) for col in columns_to_drop_excel]\n",
    "\n",
    "# Drop the columns by index\n",
    "df = df.drop(columns=df.columns[columns_to_drop_indices], axis=1)\n",
    "df.to_csv(output_file_path, index=False)\n",
    "print(df.head())"
   ]
  },
  {
   "cell_type": "code",
   "execution_count": null,
   "id": "0902db60-ea54-4d1a-92e5-0753c5e11b78",
   "metadata": {},
   "outputs": [],
   "source": []
  }
 ],
 "metadata": {
  "kernelspec": {
   "display_name": "Python 3 (ipykernel)",
   "language": "python",
   "name": "python3"
  },
  "language_info": {
   "codemirror_mode": {
    "name": "ipython",
    "version": 3
   },
   "file_extension": ".py",
   "mimetype": "text/x-python",
   "name": "python",
   "nbconvert_exporter": "python",
   "pygments_lexer": "ipython3",
   "version": "3.9.13"
  }
 },
 "nbformat": 4,
 "nbformat_minor": 5
}
