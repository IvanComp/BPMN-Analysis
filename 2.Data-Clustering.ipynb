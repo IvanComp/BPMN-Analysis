{
 "cells": [
  {
   "cell_type": "code",
   "execution_count": null,
   "id": "ee4c709e-0315-439c-9ae6-2a0dffbbfbb6",
   "metadata": {},
   "outputs": [],
   "source": [
    "import pandas as pd\n",
    "import numpy as np\n",
    "from sklearn.cluster import KMeans\n",
    "from sklearn.decomposition import PCA\n",
    "import matplotlib.pyplot as plt\n",
    "from mpl_toolkits.mplot3d import Axes3D  # Importa la classe Axes3D\n",
    "\n",
    "# Codice per caricare le stringhe binarie\n",
    "file_path = \"./data/Cleaned data/BPMNcleaned.csv\"\n",
    "\n",
    "try:\n",
    "    df = pd.read_csv(file_path, sep=',', engine='python', encoding='utf-8')\n",
    "except UnicodeDecodeError:\n",
    "    df = pd.read_csv(file_path, sep=',', engine='python', encoding='latin-1')\n",
    "\n",
    "if df.shape[1] > 1:\n",
    "    df = df.drop(columns=df.columns[0])\n",
    "\n",
    "df[df > 0] = 1\n",
    "binary_strings = df.astype(str).agg(''.join, axis=1).values\n",
    "X = np.array([[int(bit) for bit in string] for string in binary_strings])\n",
    "\n",
    "# Applica PCA \n",
    "pca = PCA(n_components=25)\n",
    "X_pca = pca.fit_transform(X)\n",
    "\n",
    "# Applica K-Means clustering  (controlla se fa distanza per riga o colonna) \n",
    "# Applica K-medoid (non su sk.learn) clustering  (per altre distanze -> prima passare la matrice delle distanze)\n",
    "kmeans = KMeans(n_clusters=3)\n",
    "clusters = kmeans.fit_predict(X_pca)\n",
    "\n",
    "#clusters.labels deve restituire un vettore da 0 a 2 etichette (fino al cluster 3)\n",
    "#confrotare le etichette mie con quelle che mi da lui\n",
    "\n",
    "# Informazioni sui componenti principali\n",
    "explained_variance_ratio = pca.explained_variance_ratio_\n",
    "components = pca.components_\n",
    "fig = plt.figure(figsize=(10, 30))\n",
    "\n",
    "# Visualizza i cluster su tre piani\n",
    "ax = fig.add_subplot(111, projection='3d')\n",
    "ax.scatter(X_pca[:, 0], X_pca[:, 1], X_pca[:, 2], c=clusters, cmap='viridis')\n",
    "ax.set_title('Clustering delle stringhe binarie in 3D')\n",
    "ax.set_xlabel('Prima componente principale')\n",
    "ax.set_ylabel('Seconda componente principale')\n",
    "ax.set_zlabel('Terza componente principale')\n",
    "plt.show()\n"
   ]
  },
  {
   "cell_type": "code",
   "execution_count": null,
   "id": "d963690e-7c99-4524-b6e2-2c3d576416bb",
   "metadata": {},
   "outputs": [],
   "source": [
    "explained_variance_ratio = pca.explained_variance_ratio_\n",
    "components = pca.components_\n",
    "\n",
    "plt.plot(np.cumsum(explained_variance_ratio))\n",
    "#plt.hist(explained_variance_ratio)\n",
    "plt.show()\n"
   ]
  },
  {
   "cell_type": "markdown",
   "id": "c70e3536-9949-4ff3-bfda-1de90660a3b0",
   "metadata": {},
   "source": [
    "Levenshtein Distance"
   ]
  },
  {
   "cell_type": "markdown",
   "id": "d708b8ba-01d7-4955-85cb-d0e59dd2103d",
   "metadata": {},
   "source": [
    "Hamming Distance"
   ]
  },
  {
   "cell_type": "markdown",
   "id": "ce9c9f6c-8f86-4468-b37f-d906f4662a3d",
   "metadata": {},
   "source": [
    "Euclidean Distance"
   ]
  }
 ],
 "metadata": {
  "kernelspec": {
   "display_name": "Python 3 (ipykernel)",
   "language": "python",
   "name": "python3"
  },
  "language_info": {
   "codemirror_mode": {
    "name": "ipython",
    "version": 3
   },
   "file_extension": ".py",
   "mimetype": "text/x-python",
   "name": "python",
   "nbconvert_exporter": "python",
   "pygments_lexer": "ipython3",
   "version": "3.9.13"
  }
 },
 "nbformat": 4,
 "nbformat_minor": 5
}
